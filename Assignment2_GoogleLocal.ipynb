{
  "nbformat": 4,
  "nbformat_minor": 0,
  "metadata": {
    "kernelspec": {
      "display_name": "Python 3",
      "language": "python",
      "name": "python3"
    },
    "language_info": {
      "codemirror_mode": {
        "name": "ipython",
        "version": 3
      },
      "file_extension": ".py",
      "mimetype": "text/x-python",
      "name": "python",
      "nbconvert_exporter": "python",
      "pygments_lexer": "ipython3",
      "version": "3.7.4"
    },
    "colab": {
      "name": "Assignment2_GoogleLocal.ipynb",
      "provenance": [],
      "include_colab_link": true
    }
  },
  "cells": [
    {
      "cell_type": "markdown",
      "metadata": {
        "id": "view-in-github",
        "colab_type": "text"
      },
      "source": [
        "<a href=\"https://colab.research.google.com/github/ajitkr1994/RestaurantRecommendation/blob/master/Assignment2_GoogleLocal.ipynb\" target=\"_parent\"><img src=\"https://colab.research.google.com/assets/colab-badge.svg\" alt=\"Open In Colab\"/></a>"
      ]
    },
    {
      "cell_type": "code",
      "metadata": {
        "pycharm": {
          "is_executing": false
        },
        "id": "7nmTDp3d95yM",
        "colab_type": "code",
        "colab": {}
      },
      "source": [
        "import gzip,json,ast,numpy,scipy.optimize, random\n",
        "from collections import defaultdict"
      ],
      "execution_count": 0,
      "outputs": []
    },
    {
      "cell_type": "code",
      "metadata": {
        "pycharm": {
          "is_executing": false
        },
        "id": "Yfv1rb0695yR",
        "colab_type": "code",
        "colab": {}
      },
      "source": [
        "def readJSON(path):\n",
        "    f = gzip.open(path, 'rt', encoding = 'utf-8')\n",
        "    for l in f:\n",
        "        yield l.strip()"
      ],
      "execution_count": 0,
      "outputs": []
    },
    {
      "cell_type": "code",
      "metadata": {
        "pycharm": {
          "is_executing": false
        },
        "id": "qv8JdCJi95yU",
        "colab_type": "code",
        "colab": {}
      },
      "source": [
        "import string\n",
        "\n",
        "def cleanReviewData(d):\n",
        "    if d['reviewerName']:\n",
        "        d['reviewerName'] = d['reviewerName'].lower()\n",
        "    if d['reviewText']:\n",
        "        d['reviewText'] = d['reviewText'].lower()\n",
        "        d['reviewText'] = ''.join([c for c in d['reviewText'] if c not in string.punctuation])\n",
        "    \n",
        "    return d"
      ],
      "execution_count": 0,
      "outputs": []
    },
    {
      "cell_type": "code",
      "metadata": {
        "pycharm": {
          "is_executing": true
        },
        "id": "CZ2TNP9595yY",
        "colab_type": "code",
        "colab": {}
      },
      "source": [
        "restaurantData = []\n",
        "\n",
        "for line in readJSON(\"./restaurant-smart-super-compact-reviews.json.gz\"):\n",
        "    #json.loads(line)\n",
        "    d = json.loads(line)\n",
        "    cleanReviewData(d)\n",
        "    restaurantData.append(d)"
      ],
      "execution_count": 0,
      "outputs": []
    },
    {
      "cell_type": "code",
      "metadata": {
        "pycharm": {
          "is_executing": true
        },
        "id": "wmRennPl95yd",
        "colab_type": "code",
        "colab": {}
      },
      "source": [
        "import random\n",
        "random.shuffle(restaurantData)"
      ],
      "execution_count": 0,
      "outputs": []
    },
    {
      "cell_type": "code",
      "metadata": {
        "pycharm": {
          "is_executing": true
        },
        "id": "mfi0zWt795yg",
        "colab_type": "code",
        "colab": {}
      },
      "source": [
        "REVIEW_DATASET_SIZE = len(restaurantData)\n",
        "\n",
        "nTrain = int(0.8*REVIEW_DATASET_SIZE)\n",
        "nValid = int(0.1*REVIEW_DATASET_SIZE)\n",
        "\n",
        "trainData = restaurantData[:nTrain]\n",
        "validData = restaurantData[nTrain:nTrain+nValid]\n",
        "testData = restaurantData[nTrain+nValid:]"
      ],
      "execution_count": 0,
      "outputs": []
    },
    {
      "cell_type": "code",
      "metadata": {
        "pycharm": {
          "is_executing": true
        },
        "id": "-K_Fh5kv95yk",
        "colab_type": "code",
        "colab": {}
      },
      "source": [
        "xValidate = [[d['gPlusUserId'], d['gPlusPlaceId'], d['rating']] for d in validData]\n",
        "yValidate = [d['rating'] for d in validData]\n",
        "\n",
        "xTest = [[d['gPlusUserId'], d['gPlusPlaceId'], d['rating']] for d in testData]\n",
        "yTest = [d['rating'] for d in testData]"
      ],
      "execution_count": 0,
      "outputs": []
    },
    {
      "cell_type": "code",
      "metadata": {
        "pycharm": {
          "is_executing": true
        },
        "id": "gIt4Rn0Z95yn",
        "colab_type": "code",
        "colab": {}
      },
      "source": [
        "users = set()\n",
        "categories = set()\n",
        "businesses = set()\n",
        "\n",
        "\n",
        "for d in trainData:\n",
        "    users.add(d['gPlusUserId'])\n",
        "    if d['categories']:\n",
        "        for cat in d['categories']:\n",
        "            categories.add(cat)\n",
        "        \n",
        "    businesses.add(d['gPlusPlaceId'])\n",
        "    \n",
        "len(users), len(businesses), len(categories)"
      ],
      "execution_count": 0,
      "outputs": []
    },
    {
      "cell_type": "code",
      "metadata": {
        "pycharm": {
          "is_executing": true
        },
        "id": "sS_bEz3W95yr",
        "colab_type": "code",
        "colab": {}
      },
      "source": [
        "ratingsList = [d['rating'] for d in trainData]\n",
        "ratingMean = sum(ratingsList)/len(ratingsList)"
      ],
      "execution_count": 0,
      "outputs": []
    },
    {
      "cell_type": "code",
      "metadata": {
        "pycharm": {
          "is_executing": true
        },
        "id": "skvkrDUk95yv",
        "colab_type": "code",
        "colab": {}
      },
      "source": [
        "ratingMean"
      ],
      "execution_count": 0,
      "outputs": []
    },
    {
      "cell_type": "code",
      "metadata": {
        "pycharm": {
          "is_executing": true
        },
        "id": "j6FUGX6s95yy",
        "colab_type": "code",
        "colab": {}
      },
      "source": [
        "userToPlaces = defaultdict(set)\n",
        "placesToUser = defaultdict(set)\n",
        "userSet = set()\n",
        "placesSet = set()\n",
        "ratings = {}\n",
        "\n",
        "for d in trainData:\n",
        "    u = d['gPlusUserId']\n",
        "    p = d['gPlusPlaceId']\n",
        "    r = d['rating']\n",
        "    userToPlaces[u].add(p)\n",
        "    placesToUser[p].add(u)\n",
        "    userSet.add(u)\n",
        "    placesSet.add(p)\n",
        "    ratings[(u, p)] = r"
      ],
      "execution_count": 0,
      "outputs": []
    },
    {
      "cell_type": "code",
      "metadata": {
        "pycharm": {
          "is_executing": true
        },
        "id": "5ASgRqxR95y1",
        "colab_type": "code",
        "colab": {}
      },
      "source": [
        "xTrainG = [[d['gPlusUserId'], d['gPlusPlaceId'], d['rating']] for d in trainData]\n",
        "yTrainG = [d['rating'] for d in trainData]"
      ],
      "execution_count": 0,
      "outputs": []
    },
    {
      "cell_type": "markdown",
      "metadata": {
        "id": "Z55gEQ0E95y5",
        "colab_type": "text"
      },
      "source": [
        "# MSE With Mean Prediction"
      ]
    },
    {
      "cell_type": "code",
      "metadata": {
        "pycharm": {
          "is_executing": true
        },
        "id": "H5661F2Q95y6",
        "colab_type": "code",
        "colab": {}
      },
      "source": [
        "def MSE(predictions, labels):\n",
        "    differences = [(x-y)**2 for x,y in zip(predictions,labels)]\n",
        "    return sum(differences) / len(differences)"
      ],
      "execution_count": 0,
      "outputs": []
    },
    {
      "cell_type": "code",
      "metadata": {
        "pycharm": {
          "is_executing": true
        },
        "id": "RtRurpoa95y9",
        "colab_type": "code",
        "colab": {}
      },
      "source": [
        "alwaysPredictMean = [ratingMean for d in validData]\n",
        "labels = [d['rating'] for d in validData]\n",
        "\n",
        "MSE(alwaysPredictMean, labels)"
      ],
      "execution_count": 0,
      "outputs": []
    },
    {
      "cell_type": "markdown",
      "metadata": {
        "id": "vEztHr2v95zB",
        "colab_type": "text"
      },
      "source": [
        "# Implement Latent Factor Without Gamma"
      ]
    },
    {
      "cell_type": "code",
      "metadata": {
        "pycharm": {
          "is_executing": true
        },
        "id": "XlYV26OK95zB",
        "colab_type": "code",
        "colab": {}
      },
      "source": [
        "def getPrediction1(user, book, alpha, betaUsers, betaBooks):\n",
        "    try:\n",
        "        userDelta = betaUsers[user]\n",
        "    except KeyError:\n",
        "        userDelta = 0\n",
        "\n",
        "    try:\n",
        "        bookDelta = betaBooks[book]\n",
        "    except KeyError:\n",
        "        bookDelta = 0\n",
        "\n",
        "    return alpha + userDelta + bookDelta\n",
        "\n",
        "\n",
        "def getMSE1(x, y, alpha, betaUsers, betaBooks):\n",
        "    prediction = [getPrediction1(entry[0], entry[1], alpha, betaUsers, betaBooks) for entry in x]\n",
        "    return sum(numpy.square(numpy.subtract(prediction,y)))/len(x)\n"
      ],
      "execution_count": 0,
      "outputs": []
    },
    {
      "cell_type": "code",
      "metadata": {
        "pycharm": {
          "is_executing": true
        },
        "id": "NOGsGA3H95zE",
        "colab_type": "code",
        "colab": {}
      },
      "source": [
        "def train(reg_coef = 3):\n",
        "\n",
        "    alpha = 0\n",
        "    betaUsers = defaultdict()\n",
        "    betaPlaces = defaultdict()\n",
        "\n",
        "    for user in userSet:\n",
        "        betaUsers[user] = 0\n",
        "    for place in placesSet:\n",
        "        betaPlaces[place] = 0\n",
        "\n",
        "    oldMse = 1\n",
        "    newMse = 0\n",
        "\n",
        "    while abs(newMse-oldMse) > 1e-06:\n",
        "        allRatings = [x[2] for x in xTrainG]\n",
        "        alpha = (sum(allRatings) - sum(betaUsers.values()) - sum(betaPlaces.values()))/len(xTrainG)\n",
        "\n",
        "        for user in userSet:\n",
        "            beta = 0\n",
        "            pSet = userToPlaces[user]\n",
        "            for place in pSet:\n",
        "                beta += ratings[(user, place)] - alpha - betaPlaces[place]\n",
        "            betaUsers[user] = beta/(reg_coef + len(pSet))\n",
        "\n",
        "        for place in placesSet:\n",
        "            beta = 0\n",
        "            uSet = placesToUser[place]\n",
        "            for user in uSet:\n",
        "                beta += ratings[(user, place)] - alpha - betaUsers[user]\n",
        "            betaPlaces[place] = beta/(reg_coef + len(uSet))\n",
        "\n",
        "        oldMse = newMse\n",
        "        newMse = getMSE1(xTrainG, yTrainG, alpha, betaUsers, betaPlaces)\n",
        "#         print('old', newMse)\n",
        "\n",
        "    return [alpha, betaUsers, betaPlaces]"
      ],
      "execution_count": 0,
      "outputs": []
    },
    {
      "cell_type": "code",
      "metadata": {
        "pycharm": {
          "is_executing": true
        },
        "id": "Eskrzk1A95zH",
        "colab_type": "code",
        "colab": {}
      },
      "source": [
        "alpha, bU, bB = train(6)"
      ],
      "execution_count": 0,
      "outputs": []
    },
    {
      "cell_type": "code",
      "metadata": {
        "pycharm": {
          "is_executing": true
        },
        "id": "d2C6OyCs95zL",
        "colab_type": "code",
        "colab": {}
      },
      "source": [
        "for i in range(20):\n",
        "    alpha, bU, bB = train(i)\n",
        "    print(\"Training MSE: \",  getMSE1(xTrainG, yTrainG, alpha, bU, bB))\n",
        "    print(\"Validation MSE: \",  getMSE1(xValidate, yValidate, alpha, bU, bB))\n",
        "    print(\"Test MSE: \",  getMSE1(xTest, yTest, alpha, bU, bB))"
      ],
      "execution_count": 0,
      "outputs": []
    },
    {
      "cell_type": "markdown",
      "metadata": {
        "id": "a_WfvMrs95zO",
        "colab_type": "text"
      },
      "source": [
        "# Implement Latent Factor With Gamma"
      ]
    },
    {
      "cell_type": "code",
      "metadata": {
        "pycharm": {
          "is_executing": true
        },
        "id": "NvIZfTkl95zP",
        "colab_type": "code",
        "colab": {}
      },
      "source": [
        "def getPrediction(user, book, alpha, betaUsers, betaPlaces, gammaUsers, gammaPlaces):\n",
        "    try:\n",
        "        userDelta = betaUsers[user]\n",
        "    except KeyError:\n",
        "        userDelta = 0\n",
        "\n",
        "    try:\n",
        "        placeDelta = betaPlaces[book]\n",
        "    except KeyError:\n",
        "        placeDelta = 0\n",
        "\n",
        "    try:\n",
        "        gammaU = gammaUsers[user]\n",
        "    except KeyError:\n",
        "        gammaU = [0] * k\n",
        "\n",
        "    try:\n",
        "        gammaP = gammaPlaces[book]\n",
        "    except KeyError:\n",
        "        gammaP = [0] * k\n",
        "\n",
        "    return alpha + userDelta + placeDelta + numpy.dot(gammaU, gammaP)\n",
        "\n",
        "\n",
        "def getMSE(x, y, alpha, betaUsers, betaPlaces, gammaU, gammaP):\n",
        "    prediction = [getPrediction(entry[0], entry[1], alpha, betaUsers, betaPlaces, gammaU, gammaP) for entry in x]\n",
        "    return sum(numpy.square(numpy.subtract(prediction, y))) / len(x)\n",
        "\n",
        "def train2(l = 0.01, l1=1, l2=1, l3=1, l4=1, itr = 1):\n",
        "\n",
        "    alpha, betaUsers, betaPlaces = train()\n",
        "\n",
        "    gammaUsers = defaultdict()\n",
        "    gammaPlaces = defaultdict()\n",
        "    for user in userSet:\n",
        "        gammaUsers[user] =  [random.random() * 0.1 - 0.05] *k\n",
        "    for place in placesSet:\n",
        "        gammaPlaces[place] =  [random.random() * 0.1 - 0.05] *k\n",
        "\n",
        "    # l = 1e-3\n",
        "    for i in range(itr):\n",
        "        count = 0\n",
        "\n",
        "        Xy = list(zip(xTrainG, yTrainG))\n",
        "        random.shuffle(Xy)\n",
        "\n",
        "        xTrain = [d[0] for d in Xy]\n",
        "        yTrain = [d[1] for d in Xy]\n",
        "\n",
        "        for x in xTrain:\n",
        "            u, p, r = x\n",
        "            betaU = betaUsers[u]\n",
        "            betaP = betaPlaces[p]\n",
        "            gammaP = gammaPlaces[p]\n",
        "            gammaU = gammaUsers[u]\n",
        "\n",
        "            pred = getPrediction(u, p, alpha, betaUsers, betaPlaces, gammaUsers, gammaPlaces)\n",
        "\n",
        "            alpha = alpha - l * (pred - r)\n",
        "\n",
        "            newBetaU = betaU - l * (pred - r + l1 * betaU)\n",
        "            betaUsers[u] = newBetaU\n",
        "\n",
        "            newBetaP = betaP - l * (pred - r + l2 * betaP)\n",
        "            betaPlaces[p] = newBetaP\n",
        "\n",
        "            newGammaP = numpy.array(gammaP) - l*k * (numpy.multiply(pred - r, gammaU) + numpy.multiply(l3, gammaP))\n",
        "            gammaPlaces[p] = newGammaP\n",
        "\n",
        "            newGammaU = numpy.array(gammaU) - l*k * (numpy.multiply(pred - r, gammaP) + numpy.multiply(l4, gammaU))\n",
        "            gammaUsers[u] = newGammaU\n",
        "\n",
        "        newMse = getMSE(xTrain, yTrain, alpha, betaUsers, betaPlaces, gammaUsers, gammaPlaces)\n",
        "        print(newMse)\n",
        "        print(\"Validation MSE: \", i,  getMSE(xValidate, yValidate, alpha, betaUsers, betaPlaces, gammaUsers, gammaPlaces))\n",
        "\n",
        "    return [alpha, betaUsers, betaPlaces, gammaUsers, gammaPlaces]\n",
        "\n"
      ],
      "execution_count": 0,
      "outputs": []
    },
    {
      "cell_type": "code",
      "metadata": {
        "pycharm": {
          "is_executing": true
        },
        "id": "h-8qUJEB95zS",
        "colab_type": "code",
        "colab": {}
      },
      "source": [
        "k = 6\n",
        "l = 0.01\n",
        "lr = 0.0002\n",
        "itr = 100\n",
        "alpha, bU, bB, gU, gB = train2(lr, l, l, l*k,  l*k, itr)\n",
        "\n",
        "print(\"Training MSE: \",  getMSE(xTrainG, yTrainG, alpha, bU, bB, gU, gB))\n",
        "print(\"Validation MSE: \",  getMSE(xValidate, yValidate, alpha, bU, bB, gU, gB))\n",
        "print(\"Test MSE: \",  getMSE(xTest, yTest, alpha, bU, bB, gU, gB))\n",
        "\n"
      ],
      "execution_count": 0,
      "outputs": []
    },
    {
      "cell_type": "markdown",
      "metadata": {
        "id": "Xdn8io3895zU",
        "colab_type": "text"
      },
      "source": [
        "# Location Study for users."
      ]
    },
    {
      "cell_type": "code",
      "metadata": {
        "pycharm": {
          "is_executing": true
        },
        "id": "Z3NV0MEF95zV",
        "colab_type": "code",
        "colab": {}
      },
      "source": [
        "import gzip\n",
        "import random\n",
        "from collections import defaultdict\n",
        "import numpy\n",
        "import json\n",
        "\n",
        "\n",
        "def readGz(path):\n",
        "    for l in gzip.open(path, 'rt'):\n",
        "        yield eval(l)\n",
        "\n",
        "def readJSON(path):\n",
        "    f = gzip.open(path, 'rt')\n",
        "    #f.readline() . Not needed. There's no header.\n",
        "    for l in f:\n",
        "        yield l.strip()"
      ],
      "execution_count": 0,
      "outputs": []
    },
    {
      "cell_type": "code",
      "metadata": {
        "pycharm": {
          "is_executing": true
        },
        "id": "SarI2i9Q95zY",
        "colab_type": "code",
        "colab": {}
      },
      "source": [
        "# userData = []\n",
        "# for line in readJSON(\"users.clean.json.gz\"):\n",
        "#     userData.append(eval(line))\n"
      ],
      "execution_count": 0,
      "outputs": []
    },
    {
      "cell_type": "code",
      "metadata": {
        "pycharm": {
          "is_executing": true
        },
        "id": "_7jH5CrI95zb",
        "colab_type": "code",
        "colab": {}
      },
      "source": [
        "# userToLocation = defaultdict()\n",
        "\n",
        "# for u in userData:\n",
        "#     userToLocation[u['gPlusUserId']] = u['currentPlace']"
      ],
      "execution_count": 0,
      "outputs": []
    },
    {
      "cell_type": "code",
      "metadata": {
        "pycharm": {
          "is_executing": true
        },
        "id": "nc0fssXs95zd",
        "colab_type": "code",
        "colab": {}
      },
      "source": [
        "# count = 0\n",
        "# for u in userSet:\n",
        "#     if userToLocation.get(u, None) is not None:\n",
        "#         count+=1"
      ],
      "execution_count": 0,
      "outputs": []
    },
    {
      "cell_type": "code",
      "metadata": {
        "pycharm": {
          "is_executing": true
        },
        "scrolled": false,
        "id": "QAuX5Re695zh",
        "colab_type": "code",
        "colab": {}
      },
      "source": [
        "# count/len(userSet)"
      ],
      "execution_count": 0,
      "outputs": []
    },
    {
      "cell_type": "markdown",
      "metadata": {
        "id": "fSD6-THx95zk",
        "colab_type": "text"
      },
      "source": [
        "# Sentiment Analysis"
      ]
    },
    {
      "cell_type": "code",
      "metadata": {
        "pycharm": {
          "is_executing": true
        },
        "id": "_aJQbhJf95zl",
        "colab_type": "code",
        "colab": {}
      },
      "source": [
        "import nltk"
      ],
      "execution_count": 0,
      "outputs": []
    },
    {
      "cell_type": "code",
      "metadata": {
        "pycharm": {
          "is_executing": true
        },
        "id": "MLBAmflT95zo",
        "colab_type": "code",
        "colab": {}
      },
      "source": [
        "from nltk.classify import NaiveBayesClassifier\n",
        "from nltk.corpus import subjectivity\n",
        "from nltk.sentiment import SentimentAnalyzer\n",
        "from nltk.sentiment.util import *\n",
        "from nltk.sentiment.vader import SentimentIntensityAnalyzer\n"
      ],
      "execution_count": 0,
      "outputs": []
    },
    {
      "cell_type": "code",
      "metadata": {
        "pycharm": {
          "is_executing": true
        },
        "id": "SQ4bTPu195zq",
        "colab_type": "code",
        "colab": {}
      },
      "source": [
        "from textblob import TextBlob\n",
        "\n",
        "t = \"It was lovely\"\n",
        "\n",
        "blob = TextBlob(t)\n",
        "print(blob.sentiment)\n",
        "\n",
        "senti = SentimentIntensityAnalyzer()\n",
        "print(senti.polarity_scores(t))"
      ],
      "execution_count": 0,
      "outputs": []
    },
    {
      "cell_type": "markdown",
      "metadata": {
        "id": "tTs_U4UA95zt",
        "colab_type": "text"
      },
      "source": [
        "# ENSEMBLE"
      ]
    },
    {
      "cell_type": "code",
      "metadata": {
        "pycharm": {
          "is_executing": true
        },
        "id": "Lq0fO6jE95zt",
        "colab_type": "code",
        "colab": {}
      },
      "source": [
        "bUAvg = sum(bU.values())/len(bU.values())\n",
        "bBAvg = sum(bB.values())/len(bB.values())\n",
        "rLength = [len(d['reviewText']) for d in trainData]\n",
        "avgReviewLength = sum(rLength)/len(rLength)"
      ],
      "execution_count": 0,
      "outputs": []
    },
    {
      "cell_type": "code",
      "metadata": {
        "pycharm": {
          "is_executing": true
        },
        "scrolled": true,
        "id": "CIMqhV0O95zx",
        "colab_type": "code",
        "colab": {}
      },
      "source": [
        "avgReviewLength"
      ],
      "execution_count": 0,
      "outputs": []
    },
    {
      "cell_type": "markdown",
      "metadata": {
        "id": "wdHvZTuV95z0",
        "colab_type": "text"
      },
      "source": [
        ""
      ]
    },
    {
      "cell_type": "code",
      "metadata": {
        "pycharm": {
          "is_executing": true
        },
        "id": "72y1adYZ95z0",
        "colab_type": "code",
        "colab": {}
      },
      "source": [
        "def getFeature(d):\n",
        "    text = d['reviewText']\n",
        "    blob = TextBlob(text)\n",
        "    scores = senti.polarity_scores(text)\n",
        "    betaUser = bU.get(d['gPlusUserId'], bUAvg)\n",
        "    betaPlace = bB.get(d['gPlusPlaceId'], bBAvg)\n",
        "    feature = [1, len(text)/avgReviewLength, blob.sentiment.polarity, blob.sentiment.subjectivity, scores['neg'], scores['pos'], scores['compound'], betaUser, betaPlace] \n",
        "    return feature\n"
      ],
      "execution_count": 0,
      "outputs": []
    },
    {
      "cell_type": "code",
      "metadata": {
        "pycharm": {
          "is_executing": true
        },
        "id": "NqrK3O5c95z6",
        "colab_type": "code",
        "colab": {}
      },
      "source": [
        "xTrainSentiment = []\n",
        "yTrainSentiment = []\n",
        "for d in trainData:\n",
        "    if d['reviewText'] is not None:\n",
        "        feature = getFeature(d)\n",
        "        xTrainSentiment.append(feature)\n",
        "        yTrainSentiment.append(d['rating'])"
      ],
      "execution_count": 0,
      "outputs": []
    },
    {
      "cell_type": "code",
      "metadata": {
        "pycharm": {
          "is_executing": true
        },
        "id": "Jf-6rPYA95z8",
        "colab_type": "code",
        "colab": {}
      },
      "source": [
        "xValidSentiment = []\n",
        "yValidSentiment = []\n",
        "yValid = []\n",
        "for d in validData:\n",
        "    if d['reviewText'] is not None:\n",
        "        feature = getFeature(d)\n",
        "        xValidSentiment.append(feature)\n",
        "        yValidSentiment.append(d['rating'])\n",
        "        "
      ],
      "execution_count": 0,
      "outputs": []
    },
    {
      "cell_type": "code",
      "metadata": {
        "pycharm": {
          "is_executing": true
        },
        "id": "rxMfMsBz95z-",
        "colab_type": "code",
        "colab": {}
      },
      "source": [
        "xTestSentiment = []\n",
        "yTestSentiment = []\n",
        "for d in testData:\n",
        "    if d['reviewText'] is not None:\n",
        "        feature = getFeature(d)\n",
        "        xTestSentiment.append(feature)\n",
        "        yTestSentiment.append(d['rating'])\n",
        "        "
      ],
      "execution_count": 0,
      "outputs": []
    },
    {
      "cell_type": "markdown",
      "metadata": {
        "id": "1YDWUmQG950B",
        "colab_type": "text"
      },
      "source": [
        "# Using Sentiment Scores"
      ]
    },
    {
      "cell_type": "code",
      "metadata": {
        "pycharm": {
          "is_executing": true
        },
        "scrolled": true,
        "id": "RhWsUpol950C",
        "colab_type": "code",
        "colab": {}
      },
      "source": [
        "def getX(X):\n",
        "#     return X\n",
        "    return [[x[0], x[1], x[2], x[3], x[4],x[5], x[6]] for x in X]\n",
        "\n",
        "from sklearn.linear_model import LinearRegression\n",
        "reg = LinearRegression().fit(getX(xTrainSentiment), yTrainSentiment)"
      ],
      "execution_count": 0,
      "outputs": []
    },
    {
      "cell_type": "code",
      "metadata": {
        "pycharm": {
          "is_executing": true
        },
        "id": "NalkVu0H950E",
        "colab_type": "code",
        "colab": {}
      },
      "source": [
        "yPredTrain = reg.predict(getX(xTrainSentiment))\n",
        "yPredT = reg.predict(getX(xTestSentiment))\n",
        "yPredV = reg.predict(getX(xValidSentiment))\n",
        "\n",
        "print(\"Training MSE: \", MSE(yPredTrain, yTrainSentiment))\n",
        "print(\"Validation MSE: \", MSE(yPredV, yValidSentiment))\n",
        "print(\"Test MSE: \", MSE(yPredT, yTestSentiment))\n"
      ],
      "execution_count": 0,
      "outputs": []
    },
    {
      "cell_type": "code",
      "metadata": {
        "pycharm": {
          "is_executing": true
        },
        "id": "GnyPm5BD950H",
        "colab_type": "code",
        "colab": {}
      },
      "source": [
        "from sklearn.linear_model import Ridge\n",
        "clf = Ridge(alpha=1e-1)"
      ],
      "execution_count": 0,
      "outputs": []
    },
    {
      "cell_type": "code",
      "metadata": {
        "pycharm": {
          "is_executing": true
        },
        "id": "HdHcbBad950J",
        "colab_type": "code",
        "colab": {}
      },
      "source": [
        "clf.fit(getX(xTrainSentiment), yTrainSentiment)"
      ],
      "execution_count": 0,
      "outputs": []
    },
    {
      "cell_type": "code",
      "metadata": {
        "pycharm": {
          "is_executing": true
        },
        "id": "TGV3yl86950O",
        "colab_type": "code",
        "colab": {}
      },
      "source": [
        "yPredTrain = clf.predict(getX(xTrainSentiment))\n",
        "yPredV = clf.predict(getX(xValidSentiment))\n",
        "yPredT = clf.predict(getX(xTestSentiment))\n",
        "\n",
        "print(\"Training MSE: \", MSE(yPredTrain, yTrainSentiment))\n",
        "print(\"Validation MSE: \", MSE(yPredV, yValidSentiment))\n",
        "print(\"Test MSE: \", MSE(yPredT, yTestSentiment))\n"
      ],
      "execution_count": 0,
      "outputs": []
    },
    {
      "cell_type": "markdown",
      "metadata": {
        "id": "xB3NuCqz950T",
        "colab_type": "text"
      },
      "source": [
        "# Ensemble "
      ]
    },
    {
      "cell_type": "code",
      "metadata": {
        "id": "G5LMae_q950U",
        "colab_type": "code",
        "colab": {}
      },
      "source": [
        "def getX(X):\n",
        "    return X\n",
        "\n",
        "from sklearn.linear_model import LinearRegression\n",
        "reg = LinearRegression().fit(getX(xTrainSentiment), yTrainSentiment)\n"
      ],
      "execution_count": 0,
      "outputs": []
    },
    {
      "cell_type": "code",
      "metadata": {
        "id": "huKQQU4O950W",
        "colab_type": "code",
        "colab": {}
      },
      "source": [
        "from sklearn.linear_model import Ridge\n",
        "clf = Ridge(alpha=1e4)\n",
        "clf.fit(getX(xTrainSentiment), yTrainSentiment)\n",
        "\n",
        "yPredTrain = clf.predict(getX(xTrainSentiment))\n",
        "yPredV = clf.predict(getX(xValidSentiment))\n",
        "yPredT = clf.predict(getX(xTestSentiment))\n",
        "\n",
        "print(\"Training MSE: \", MSE(yPredTrain, yTrainSentiment))\n",
        "print(\"Validation MSE: \", MSE(yPredV, yValidSentiment))\n",
        "print(\"Test MSE: \", MSE(yPredT, yTestSentiment))\n"
      ],
      "execution_count": 0,
      "outputs": []
    },
    {
      "cell_type": "code",
      "metadata": {
        "pycharm": {
          "is_executing": true
        },
        "id": "XMYHoJH4950Y",
        "colab_type": "code",
        "colab": {}
      },
      "source": [
        "from sklearn.ensemble import RandomForestRegressor\n",
        "clf = RandomForestRegressor(random_state=0,\n",
        "                             n_estimators=100)\n",
        "clf.fit(getX(xTrainSentiment), yTrainSentiment)"
      ],
      "execution_count": 0,
      "outputs": []
    },
    {
      "cell_type": "code",
      "metadata": {
        "pycharm": {
          "is_executing": true
        },
        "id": "pxtZtaay950b",
        "colab_type": "code",
        "colab": {}
      },
      "source": [
        "yPredTrain = clf.predict(getX(xTrainSentiment))\n",
        "yPredV = clf.predict(getX(xValidSentiment))\n",
        "yPredT = clf.predict(getX(xTestSentiment))\n",
        "\n",
        "print(\"Training MSE: \", MSE(yPredTrain, yTrainSentiment))\n",
        "print(\"Validation MSE: \", MSE(yPredV, yValidSentiment))\n",
        "print(\"Test MSE: \", MSE(yPredT, yTestSentiment))"
      ],
      "execution_count": 0,
      "outputs": []
    },
    {
      "cell_type": "markdown",
      "metadata": {
        "id": "XZFTRotY950f",
        "colab_type": "text"
      },
      "source": [
        "# Ensembling with Places features"
      ]
    },
    {
      "cell_type": "code",
      "metadata": {
        "pycharm": {
          "is_executing": true
        },
        "id": "3Ffi8EyV950f",
        "colab_type": "code",
        "colab": {}
      },
      "source": [
        "placeData = []\n",
        "\n",
        "for line in readJSON(\"./places.clean.json.gz\"):\n",
        "    d = eval(line)\n",
        "    placeData.append(d)\n"
      ],
      "execution_count": 0,
      "outputs": []
    },
    {
      "cell_type": "code",
      "metadata": {
        "pycharm": {
          "is_executing": true
        },
        "id": "aeY-YyG2950i",
        "colab_type": "code",
        "colab": {}
      },
      "source": [
        "def calcHours(hoursText):\n",
        "    hours_val = 0.\n",
        "    for day in hoursText:\n",
        "        isWeekend = False\n",
        "        if(day[0] == 'Saturday' or day[0] == 'saturday' \\\n",
        "          or day[0] == 'Sunday' or day[0] == 'sunday'):\n",
        "            isWeekend = True\n",
        "        for time in day[1]:\n",
        "            #print(time) #each time calculate hours\n",
        "            str_range = time[0]\n",
        "            #print(time[0])\n",
        "            time_str_arr = time[0].split('--')\n",
        "            try:\n",
        "                left_time_obj = datetime.datetime.strptime(time_str_arr[0], '%I:%M %p')\n",
        "                right_time_obj = datetime.datetime.strptime(time_str_arr[1], '%I:%M %p')\n",
        "                #print(left_time_obj.time(), right_time_obj.time())\n",
        "                hr = (right_time_obj - left_time_obj).total_seconds()/60./60.\n",
        "                #print(hr)\n",
        "                if(hr < 0.):\n",
        "                    hr = 24. + hr\n",
        "                hours_val += hr\n",
        "            except:\n",
        "                pass\n",
        "            try:\n",
        "                left_time_obj = datetime.datetime.strptime(time_str_arr[0], '%I:%M')\n",
        "                right_time_obj = datetime.datetime.strptime(time_str_arr[1].split(\" \")[0], '%I:%M')\n",
        "                #print(left_time_obj.time(), right_time_obj.time())\n",
        "                hr = (right_time_obj - left_time_obj).total_seconds()/60./60.\n",
        "                #print(time_str_arr,'  hours without PM', hr)\n",
        "                if(hr < 0.):\n",
        "                    hr = 24. + hr\n",
        "                hours_val += hr\n",
        "                #print('hours without PM', hr)\n",
        "            except:\n",
        "                pass\n",
        "                #print(time_str_arr)\n",
        "            if(time_str_arr == 'Closed'):\n",
        "                hours_val += 0.\n",
        "            if(time_str_arr == 'Open 24 hours'):\n",
        "                hours_val += 24.            \n",
        "    return hours_val, isWeekend"
      ],
      "execution_count": 0,
      "outputs": []
    },
    {
      "cell_type": "code",
      "metadata": {
        "pycharm": {
          "is_executing": true
        },
        "id": "Lc--LQQr950l",
        "colab_type": "code",
        "colab": {}
      },
      "source": [
        "totalPrice = 0.\n",
        "countPlaceWithPrice = 0\n",
        "placeToPrice = defaultdict(float)\n",
        "for pd in placeData:\n",
        "    if(pd['price'] is not None):\n",
        "        totalPrice += len(pd['price'])\n",
        "        placeToPrice[pd['gPlusPlaceId']] = len(pd['price'])\n",
        "        countPlaceWithPrice += 1\n",
        "placeAveragePrice = totalPrice/countPlaceWithPrice\n",
        "\n",
        "placeToHours = defaultdict(float)\n",
        "placeIsWeekend = defaultdict(int)\n",
        "totalHours = 0.\n",
        "countPlaceWithHours  = 0\n",
        "for pd in placeData:\n",
        "    if(pd['hours'] is not None):\n",
        "        hrs, weekend = calcHours(pd['hours'])\n",
        "        totalHours += hrs\n",
        "        placeToHours[pd['gPlusPlaceId']] = hrs\n",
        "        placeIsWeekend[pd['gPlusPlaceId']] = float(weekend)\n",
        "        countPlaceWithHours += 1\n",
        "placeAverageHours = totalHours/countPlaceWithHours"
      ],
      "execution_count": 0,
      "outputs": []
    },
    {
      "cell_type": "code",
      "metadata": {
        "pycharm": {
          "is_executing": true
        },
        "id": "31We7BRg950n",
        "colab_type": "code",
        "colab": {}
      },
      "source": [
        "#places data\n",
        "def place_price(reviewDatum):\n",
        "    place_id = reviewDatum['gPlusPlaceId']\n",
        "    _prc = placeToPrice.get(place_id, placeAveragePrice)\n",
        "    return _prc\n",
        "\n",
        "def place_hours(reviewDatum):\n",
        "    place_id = reviewDatum['gPlusPlaceId']\n",
        "    _prc = placeToHours.get(place_id, placeAverageHours)\n",
        "    return _prc\n",
        "\n",
        "def place_is_weekend(reviewDatum):\n",
        "    place_id = reviewDatum['gPlusPlaceId']\n",
        "    return placeIsWeekend.get(place_id, 0.)\n",
        "\n",
        "total_avg_rating = sum(ratings.values())/len(ratings.values())\n",
        "\n",
        "def place_average_rating(reviewDatum):\n",
        "    place_id = reviewDatum['gPlusPlaceId']\n",
        "    place_ratings = [ratings[u, place_id] for u in placesToUser[place_id]]\n",
        "    if len(place_ratings) == 0:\n",
        "        return 0\n",
        "    return sum(place_ratings)/len(place_ratings)"
      ],
      "execution_count": 0,
      "outputs": []
    },
    {
      "cell_type": "code",
      "metadata": {
        "pycharm": {
          "is_executing": true
        },
        "id": "JHZqB8E9950p",
        "colab_type": "code",
        "colab": {}
      },
      "source": [
        "def getPlacesFeature(d):\n",
        "    return [place_price(d), place_hours(d), place_is_weekend(d)]\n",
        "    "
      ],
      "execution_count": 0,
      "outputs": []
    },
    {
      "cell_type": "code",
      "metadata": {
        "pycharm": {
          "is_executing": true
        },
        "id": "ZPTgmUiP950s",
        "colab_type": "code",
        "colab": {}
      },
      "source": [
        "xTrainPlaces = []\n",
        "yTrainPlaces = []\n",
        "for d in trainData:\n",
        "    if d['reviewText'] is not None:\n",
        "        feature = getPlacesFeature(d)\n",
        "        xTrainPlaces.append(feature)\n",
        "        yTrainPlaces.append(d['rating'])"
      ],
      "execution_count": 0,
      "outputs": []
    },
    {
      "cell_type": "code",
      "metadata": {
        "pycharm": {
          "is_executing": true
        },
        "id": "rSdKD1Op950v",
        "colab_type": "code",
        "colab": {}
      },
      "source": [
        "xValidationPlaces = []\n",
        "yValidationPlaces = []\n",
        "for d in validData:\n",
        "    if d['reviewText'] is not None:\n",
        "        feature = getPlacesFeature(d)\n",
        "        xValidationPlaces.append(feature)\n",
        "        yValidationPlaces.append(d['rating'])"
      ],
      "execution_count": 0,
      "outputs": []
    },
    {
      "cell_type": "code",
      "metadata": {
        "pycharm": {
          "is_executing": true
        },
        "id": "yNp2md0N9500",
        "colab_type": "code",
        "colab": {}
      },
      "source": [
        "xTestPlaces = []\n",
        "yTestPlaces = []\n",
        "for d in testData:\n",
        "    if d['reviewText'] is not None:\n",
        "        feature = getPlacesFeature(d)\n",
        "        xTestPlaces.append(feature)\n",
        "        yTestPlaces.append(d['rating'])"
      ],
      "execution_count": 0,
      "outputs": []
    },
    {
      "cell_type": "code",
      "metadata": {
        "pycharm": {
          "is_executing": true
        },
        "scrolled": true,
        "id": "ob4FZCQH9504",
        "colab_type": "code",
        "colab": {}
      },
      "source": [
        "reg = LinearRegression().fit(getX(xTrainPlaces), yTrainPlaces)\n",
        "\n",
        "yPredTrain = reg.predict(xTrainPlaces)\n",
        "yPredV = reg.predict(xValidationPlaces)\n",
        "yPredT = reg.predict(getX(xTestPlaces))\n",
        "\n",
        "print(\"Training MSE: \", MSE(yPredTrain, yTrainSentiment))\n",
        "print(\"Validation MSE: \", MSE(yPredV, yValidSentiment))\n",
        "print(\"Test MSE: \", MSE(yPredT, yTestSentiment))"
      ],
      "execution_count": 0,
      "outputs": []
    },
    {
      "cell_type": "code",
      "metadata": {
        "id": "e_kH-E3_9508",
        "colab_type": "code",
        "colab": {}
      },
      "source": [
        ""
      ],
      "execution_count": 0,
      "outputs": []
    },
    {
      "cell_type": "code",
      "metadata": {
        "id": "nkE1WXKN950-",
        "colab_type": "code",
        "colab": {}
      },
      "source": [
        "clf = Ridge(alpha=1e2)\n",
        "clf.fit(getX(xTrainPlaces), yTrainPlaces)\n",
        "\n",
        "yPredTrain = clf.predict(xTrainPlaces)\n",
        "yPredV = clf.predict(xValidationPlaces)\n",
        "yPredT = clf.predict(getX(xTestPlaces))\n",
        "\n",
        "print(\"Training MSE: \", MSE(yPredTrain, yTrainSentiment))\n",
        "print(\"Validation MSE: \", MSE(yPredV, yValidSentiment))\n",
        "print(\"Test MSE: \", MSE(yPredT, yTestSentiment))"
      ],
      "execution_count": 0,
      "outputs": []
    },
    {
      "cell_type": "markdown",
      "metadata": {
        "id": "7oCXMAbZ951C",
        "colab_type": "text"
      },
      "source": [
        "# All Combined\n"
      ]
    },
    {
      "cell_type": "code",
      "metadata": {
        "pycharm": {
          "is_executing": true
        },
        "id": "PxgSRB0b951C",
        "colab_type": "code",
        "colab": {}
      },
      "source": [
        "import numpy as np\n",
        "\n",
        "XTrainCombined = np.concatenate((xTrainSentiment, xTrainPlaces), axis=1)\n",
        "XValidationCombined = np.concatenate((xValidSentiment, xValidationPlaces), axis=1)\n",
        "XTestCombined = np.concatenate((xTestSentiment, xTestPlaces), axis=1)"
      ],
      "execution_count": 0,
      "outputs": []
    },
    {
      "cell_type": "code",
      "metadata": {
        "pycharm": {
          "is_executing": true
        },
        "id": "ldZnP6Zy951E",
        "colab_type": "code",
        "colab": {}
      },
      "source": [
        "reg = LinearRegression().fit(XTrainCombined, yTrainPlaces)\n",
        "\n",
        "yPredTrain = reg.predict(XTrainCombined)\n",
        "yPredV = reg.predict(XValidationCombined)\n",
        "yPredT = reg.predict(XTestCombined)\n",
        "\n",
        "print(\"Training MSE: \", MSE(yPredTrain, yTrainSentiment))\n",
        "print(\"Validation MSE: \", MSE(yPredV, yValidSentiment))\n",
        "print(\"Test MSE: \", MSE(yPredT, yTestSentiment))"
      ],
      "execution_count": 0,
      "outputs": []
    },
    {
      "cell_type": "code",
      "metadata": {
        "pycharm": {
          "is_executing": true
        },
        "id": "IEheTz1C951G",
        "colab_type": "code",
        "colab": {}
      },
      "source": [
        "clf = Ridge(alpha=1e4)\n",
        "clf.fit(XTrainCombined, yTrainPlaces)"
      ],
      "execution_count": 0,
      "outputs": []
    },
    {
      "cell_type": "code",
      "metadata": {
        "pycharm": {
          "is_executing": true
        },
        "id": "jTGCP8lz951J",
        "colab_type": "code",
        "colab": {}
      },
      "source": [
        "yPredTrain = clf.predict(XTrainCombined)\n",
        "yPredV = clf.predict(XValidationCombined)\n",
        "yPredT = clf.predict(XTestCombined)\n",
        "\n",
        "print(\"Training MSE: \", MSE(yPredTrain, yTrainSentiment))\n",
        "print(\"Validation MSE: \", MSE(yPredV, yValidSentiment))\n",
        "print(\"Test MSE: \", MSE(yPredT, yTestSentiment))"
      ],
      "execution_count": 0,
      "outputs": []
    },
    {
      "cell_type": "code",
      "metadata": {
        "pycharm": {
          "is_executing": true
        },
        "id": "26LOU0gn951M",
        "colab_type": "code",
        "colab": {}
      },
      "source": [
        ""
      ],
      "execution_count": 0,
      "outputs": []
    },
    {
      "cell_type": "code",
      "metadata": {
        "id": "CcqYXsTj951O",
        "colab_type": "code",
        "colab": {}
      },
      "source": [
        ""
      ],
      "execution_count": 0,
      "outputs": []
    }
  ]
}